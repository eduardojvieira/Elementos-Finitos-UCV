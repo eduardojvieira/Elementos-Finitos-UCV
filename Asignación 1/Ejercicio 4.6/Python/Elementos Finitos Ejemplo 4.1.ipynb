{
 "cells": [
  {
   "cell_type": "code",
   "execution_count": 1,
   "metadata": {},
   "outputs": [],
   "source": [
    "import pandas as pd\n",
    "import numpy as np\n",
    "from __future__ import division, print_function\n",
    "\n",
    "# Datos\n",
    "E = 29.5e6  # Módulo elśtico del material [PSI]\n",
    "A = 1  # Área transversal en [in2]\n",
    "F_1 = 20e3   # Fuerza aplicda en 2 [lb]\n",
    "F_2 = 25e3   # Fuerza en el punto 3 [lb]\n",
    "\n",
    "# Coordenadas respecto a 1 [in]\n",
    "# 1\n",
    "x_1 = 0\n",
    "y_1 = 0\n",
    "\n",
    "# 2\n",
    "x_2 = 40\n",
    "y_2 = 0\n",
    "\n",
    "# 3\n",
    "x_3 = 40\n",
    "y_3 = 30\n",
    "\n",
    "# 4\n",
    "x_4 = 0\n",
    "y_4 = 30"
   ]
  },
  {
   "cell_type": "code",
   "execution_count": 2,
   "metadata": {},
   "outputs": [
    {
     "name": "stdout",
     "output_type": "stream",
     "text": [
      "La tabla de coordenadas nodales es la siguiente: \n"
     ]
    },
    {
     "data": {
      "text/html": [
       "<div>\n",
       "<table border=\"1\" class=\"dataframe\">\n",
       "  <thead>\n",
       "    <tr style=\"text-align: right;\">\n",
       "      <th></th>\n",
       "      <th>X</th>\n",
       "      <th>Y</th>\n",
       "    </tr>\n",
       "  </thead>\n",
       "  <tbody>\n",
       "    <tr>\n",
       "      <th>1</th>\n",
       "      <td>0</td>\n",
       "      <td>0</td>\n",
       "    </tr>\n",
       "    <tr>\n",
       "      <th>2</th>\n",
       "      <td>40</td>\n",
       "      <td>0</td>\n",
       "    </tr>\n",
       "    <tr>\n",
       "      <th>3</th>\n",
       "      <td>40</td>\n",
       "      <td>30</td>\n",
       "    </tr>\n",
       "    <tr>\n",
       "      <th>4</th>\n",
       "      <td>0</td>\n",
       "      <td>30</td>\n",
       "    </tr>\n",
       "  </tbody>\n",
       "</table>\n",
       "</div>"
      ]
     },
     "execution_count": 2,
     "output_type": "execute_result",
     "metadata": {}
    }
   ],
   "source": [
    "# Solución\n",
    "\n",
    "# Coordenadas nodales\n",
    "coordenadas_nodales = pd.DataFrame({'X': [x_1, x_2, x_3, x_4],\n",
    "                                    'Y': [y_1, y_2, y_3, y_4]},\n",
    "                                     index = [1,2,3,4])\n",
    "print('La tabla de coordenadas nodales es la siguiente: ')\n",
    "coordenadas_nodales"
   ]
  },
  {
   "cell_type": "code",
   "execution_count": 3,
   "metadata": {},
   "outputs": [
    {
     "name": "stdout",
     "output_type": "stream",
     "text": [
      "Tabla de conectividad\n"
     ]
    },
    {
     "data": {
      "text/html": [
       "<div>\n",
       "<table border=\"1\" class=\"dataframe\">\n",
       "  <thead>\n",
       "    <tr style=\"text-align: right;\">\n",
       "      <th></th>\n",
       "      <th>1</th>\n",
       "      <th>2</th>\n",
       "    </tr>\n",
       "  </thead>\n",
       "  <tbody>\n",
       "    <tr>\n",
       "      <th>1</th>\n",
       "      <td>1</td>\n",
       "      <td>2</td>\n",
       "    </tr>\n",
       "    <tr>\n",
       "      <th>2</th>\n",
       "      <td>3</td>\n",
       "      <td>2</td>\n",
       "    </tr>\n",
       "    <tr>\n",
       "      <th>3</th>\n",
       "      <td>1</td>\n",
       "      <td>3</td>\n",
       "    </tr>\n",
       "    <tr>\n",
       "      <th>4</th>\n",
       "      <td>4</td>\n",
       "      <td>3</td>\n",
       "    </tr>\n",
       "  </tbody>\n",
       "</table>\n",
       "</div>"
      ]
     },
     "execution_count": 3,
     "output_type": "execute_result",
     "metadata": {}
    }
   ],
   "source": [
    "# Conectividad\n",
    "\n",
    "conectividad = pd.DataFrame({1: [1, 3, 1, 4],\n",
    "                             2: [2, 2, 3, 3]},\n",
    "                             index = [1,2,3,4])\n",
    "print('Tabla de conectividad')\n",
    "conectividad"
   ]
  },
  {
   "cell_type": "code",
   "execution_count": 4,
   "metadata": {},
   "outputs": [
    {
     "name": "stdout",
     "output_type": "stream",
     "text": [
      "Tabla de cosenos directores\n"
     ]
    },
    {
     "data": {
      "text/html": [
       "<div>\n",
       "<table border=\"1\" class=\"dataframe\">\n",
       "  <thead>\n",
       "    <tr style=\"text-align: right;\">\n",
       "      <th></th>\n",
       "      <th>l</th>\n",
       "      <th>le</th>\n",
       "      <th>m</th>\n",
       "    </tr>\n",
       "  </thead>\n",
       "  <tbody>\n",
       "    <tr>\n",
       "      <th>1</th>\n",
       "      <td>1.0</td>\n",
       "      <td>40</td>\n",
       "      <td>0.0</td>\n",
       "    </tr>\n",
       "    <tr>\n",
       "      <th>2</th>\n",
       "      <td>0.0</td>\n",
       "      <td>30</td>\n",
       "      <td>-1.0</td>\n",
       "    </tr>\n",
       "    <tr>\n",
       "      <th>3</th>\n",
       "      <td>0.8</td>\n",
       "      <td>50</td>\n",
       "      <td>0.6</td>\n",
       "    </tr>\n",
       "    <tr>\n",
       "      <th>4</th>\n",
       "      <td>1.0</td>\n",
       "      <td>40</td>\n",
       "      <td>0.0</td>\n",
       "    </tr>\n",
       "  </tbody>\n",
       "</table>\n",
       "</div>"
      ]
     },
     "execution_count": 4,
     "output_type": "execute_result",
     "metadata": {}
    }
   ],
   "source": [
    "# Cosenos directores\n",
    "\n",
    "# 1\n",
    "le_1 = np.sqrt((x_2 - x_1) ** 2 + (y_2 - y_1) ** 2)\n",
    "l_1 = (x_2 - x_1) / le_1\n",
    "m_1 = (y_2 - y_1) / le_1\n",
    "\n",
    "# 2\n",
    "le_2 = np.sqrt((x_2 - x_3) ** 2 + (y_2 - y_3) ** 2)\n",
    "l_2 = (x_2 - x_3) / le_2\n",
    "m_2 = (y_2 - y_3) / le_2\n",
    "\n",
    "# 3\n",
    "le_3 = np.sqrt((x_3 - x_1) ** 2 + (y_3 - y_1) ** 2)\n",
    "l_3 = (x_3 - x_1) / le_3\n",
    "m_3 = (y_3 - y_1) / le_3\n",
    "\n",
    "# 4\n",
    "le_4 = np.sqrt((x_3 - x_4) ** 2 + (y_3 - y_4) ** 2)\n",
    "l_4 = (x_3 - x_4) / le_4\n",
    "m_4 = (y_3 - y_4) / le_4\n",
    "\n",
    "# Tabla de cosenos directores\n",
    "cosenos_dir = pd.DataFrame({'le': [le_1, le_2, le_3, le_4],\n",
    "                            'l' : [l_1, l_2, l_3, l_4],\n",
    "                            'm' : [m_1, m_2, m_3, m_4]},\n",
    "                            index = [1,2,3,4])\n",
    "print('Tabla de cosenos directores')\n",
    "cosenos_dir"
   ]
  },
  {
   "cell_type": "code",
   "execution_count": 5,
   "metadata": {},
   "outputs": [
    {
     "name": "stdout",
     "output_type": "stream",
     "text": [
      "La matriz de rigidez 1 es: \n"
     ]
    },
    {
     "data": {
      "text/html": [
       "<div>\n",
       "<table border=\"1\" class=\"dataframe\">\n",
       "  <thead>\n",
       "    <tr style=\"text-align: right;\">\n",
       "      <th></th>\n",
       "      <th>1</th>\n",
       "      <th>2</th>\n",
       "      <th>3</th>\n",
       "      <th>4</th>\n",
       "    </tr>\n",
       "  </thead>\n",
       "  <tbody>\n",
       "    <tr>\n",
       "      <th>1</th>\n",
       "      <td>737500</td>\n",
       "      <td>0</td>\n",
       "      <td>-737500</td>\n",
       "      <td>-0</td>\n",
       "    </tr>\n",
       "    <tr>\n",
       "      <th>2</th>\n",
       "      <td>0</td>\n",
       "      <td>0</td>\n",
       "      <td>-0</td>\n",
       "      <td>-0</td>\n",
       "    </tr>\n",
       "    <tr>\n",
       "      <th>3</th>\n",
       "      <td>-737500</td>\n",
       "      <td>-0</td>\n",
       "      <td>737500</td>\n",
       "      <td>0</td>\n",
       "    </tr>\n",
       "    <tr>\n",
       "      <th>4</th>\n",
       "      <td>-0</td>\n",
       "      <td>-0</td>\n",
       "      <td>0</td>\n",
       "      <td>0</td>\n",
       "    </tr>\n",
       "  </tbody>\n",
       "</table>\n",
       "</div>"
      ]
     },
     "execution_count": 5,
     "output_type": "execute_result",
     "metadata": {}
    }
   ],
   "source": [
    "# Matriz de rigidez\n",
    "\n",
    "# Se define una función que nos calcula la matriz de rigidez\n",
    "def matrizDeRigidez(E, A, le, l, m, i, j):\n",
    "    k = (E * A) / le\n",
    "    matriz = k * np.array([[l**2, l*m, -l**2, -l*m],\n",
    "                           [l*m, m**2, -l*m, -m**2],\n",
    "                           [-l**2, -l*m, l**2, l*m],\n",
    "                           [-l*m, -m**2, l*m, m**2]])\n",
    "    tabla = pd.DataFrame(matriz, columns = [2*i-1, 2*i, 2*j-1, 2*j],index = [2*i-1, 2*i, 2*j-1, 2*j])\n",
    "    return tabla\n",
    "\n",
    "# 1\n",
    "matriz_de_rig_1 = matrizDeRigidez(E, A, le_1, l_1, m_1, 1, 2)\n",
    "print('La matriz de rigidez 1 es: ')\n",
    "matriz_de_rig_1"
   ]
  },
  {
   "cell_type": "code",
   "execution_count": 6,
   "metadata": {},
   "outputs": [
    {
     "name": "stdout",
     "output_type": "stream",
     "text": [
      "La matriz de rigidez 2 es: \n"
     ]
    },
    {
     "data": {
      "text/html": [
       "<div>\n",
       "<table border=\"1\" class=\"dataframe\">\n",
       "  <thead>\n",
       "    <tr style=\"text-align: right;\">\n",
       "      <th></th>\n",
       "      <th>5</th>\n",
       "      <th>6</th>\n",
       "      <th>3</th>\n",
       "      <th>4</th>\n",
       "    </tr>\n",
       "  </thead>\n",
       "  <tbody>\n",
       "    <tr>\n",
       "      <th>5</th>\n",
       "      <td>0</td>\n",
       "      <td>-0.000000</td>\n",
       "      <td>-0</td>\n",
       "      <td>0.000000</td>\n",
       "    </tr>\n",
       "    <tr>\n",
       "      <th>6</th>\n",
       "      <td>-0</td>\n",
       "      <td>983333.333333</td>\n",
       "      <td>0</td>\n",
       "      <td>-983333.333333</td>\n",
       "    </tr>\n",
       "    <tr>\n",
       "      <th>3</th>\n",
       "      <td>-0</td>\n",
       "      <td>0.000000</td>\n",
       "      <td>0</td>\n",
       "      <td>-0.000000</td>\n",
       "    </tr>\n",
       "    <tr>\n",
       "      <th>4</th>\n",
       "      <td>0</td>\n",
       "      <td>-983333.333333</td>\n",
       "      <td>-0</td>\n",
       "      <td>983333.333333</td>\n",
       "    </tr>\n",
       "  </tbody>\n",
       "</table>\n",
       "</div>"
      ]
     },
     "execution_count": 6,
     "output_type": "execute_result",
     "metadata": {}
    }
   ],
   "source": [
    "# 2\n",
    "matriz_de_rig_2 = matrizDeRigidez(E, A, le_2, l_2, m_2, 3, 2)\n",
    "print('La matriz de rigidez 2 es: ')\n",
    "matriz_de_rig_2"
   ]
  },
  {
   "cell_type": "code",
   "execution_count": 7,
   "metadata": {},
   "outputs": [
    {
     "name": "stdout",
     "output_type": "stream",
     "text": [
      "La matriz de rigidez 3 es: \n"
     ]
    },
    {
     "data": {
      "text/html": [
       "<div>\n",
       "<table border=\"1\" class=\"dataframe\">\n",
       "  <thead>\n",
       "    <tr style=\"text-align: right;\">\n",
       "      <th></th>\n",
       "      <th>1</th>\n",
       "      <th>2</th>\n",
       "      <th>5</th>\n",
       "      <th>6</th>\n",
       "    </tr>\n",
       "  </thead>\n",
       "  <tbody>\n",
       "    <tr>\n",
       "      <th>1</th>\n",
       "      <td>377600</td>\n",
       "      <td>283200</td>\n",
       "      <td>-377600</td>\n",
       "      <td>-283200</td>\n",
       "    </tr>\n",
       "    <tr>\n",
       "      <th>2</th>\n",
       "      <td>283200</td>\n",
       "      <td>212400</td>\n",
       "      <td>-283200</td>\n",
       "      <td>-212400</td>\n",
       "    </tr>\n",
       "    <tr>\n",
       "      <th>5</th>\n",
       "      <td>-377600</td>\n",
       "      <td>-283200</td>\n",
       "      <td>377600</td>\n",
       "      <td>283200</td>\n",
       "    </tr>\n",
       "    <tr>\n",
       "      <th>6</th>\n",
       "      <td>-283200</td>\n",
       "      <td>-212400</td>\n",
       "      <td>283200</td>\n",
       "      <td>212400</td>\n",
       "    </tr>\n",
       "  </tbody>\n",
       "</table>\n",
       "</div>"
      ]
     },
     "execution_count": 7,
     "output_type": "execute_result",
     "metadata": {}
    }
   ],
   "source": [
    "# 3\n",
    "matriz_de_rig_3 = matrizDeRigidez(E, A, le_3, l_3, m_3, 1, 3)\n",
    "print('La matriz de rigidez 3 es: ')\n",
    "matriz_de_rig_3"
   ]
  },
  {
   "cell_type": "code",
   "execution_count": 8,
   "metadata": {},
   "outputs": [
    {
     "name": "stdout",
     "output_type": "stream",
     "text": [
      "La matriz de rigidez 4 es: \n"
     ]
    },
    {
     "data": {
      "text/html": [
       "<div>\n",
       "<table border=\"1\" class=\"dataframe\">\n",
       "  <thead>\n",
       "    <tr style=\"text-align: right;\">\n",
       "      <th></th>\n",
       "      <th>7</th>\n",
       "      <th>8</th>\n",
       "      <th>5</th>\n",
       "      <th>6</th>\n",
       "    </tr>\n",
       "  </thead>\n",
       "  <tbody>\n",
       "    <tr>\n",
       "      <th>7</th>\n",
       "      <td>737500</td>\n",
       "      <td>0</td>\n",
       "      <td>-737500</td>\n",
       "      <td>-0</td>\n",
       "    </tr>\n",
       "    <tr>\n",
       "      <th>8</th>\n",
       "      <td>0</td>\n",
       "      <td>0</td>\n",
       "      <td>-0</td>\n",
       "      <td>-0</td>\n",
       "    </tr>\n",
       "    <tr>\n",
       "      <th>5</th>\n",
       "      <td>-737500</td>\n",
       "      <td>-0</td>\n",
       "      <td>737500</td>\n",
       "      <td>0</td>\n",
       "    </tr>\n",
       "    <tr>\n",
       "      <th>6</th>\n",
       "      <td>-0</td>\n",
       "      <td>-0</td>\n",
       "      <td>0</td>\n",
       "      <td>0</td>\n",
       "    </tr>\n",
       "  </tbody>\n",
       "</table>\n",
       "</div>"
      ]
     },
     "execution_count": 8,
     "output_type": "execute_result",
     "metadata": {}
    }
   ],
   "source": [
    "# 4\n",
    "matriz_de_rig_4 = matrizDeRigidez(E, A, le_4, l_4, m_4, 4, 3)\n",
    "print('La matriz de rigidez 4 es: ')\n",
    "matriz_de_rig_4"
   ]
  },
  {
   "cell_type": "code",
   "execution_count": 9,
   "metadata": {},
   "outputs": [],
   "source": [
    "matriz_de_rigidez_estr = pd.DataFrame(np.zeros((8,8)), index = [1,2,3,4,5,6,7,8], columns = [1,2,3,4,5,6,7,8])\n",
    "for i in matriz_de_rig_1.index:\n",
    "    for j in matriz_de_rig_1.columns:\n",
    "        matriz_de_rigidez_estr.loc[i,j] = matriz_de_rigidez_estr.loc[i,j] + matriz_de_rig_1.loc[i,j]\n",
    "\n",
    "for i in matriz_de_rig_2.index:\n",
    "    for j in matriz_de_rig_2.columns:\n",
    "        matriz_de_rigidez_estr.loc[i,j] = matriz_de_rigidez_estr.loc[i,j] + matriz_de_rig_2.loc[i,j]\n",
    "\n",
    "for i in matriz_de_rig_3.index:\n",
    "    for j in matriz_de_rig_3.columns:\n",
    "        matriz_de_rigidez_estr.loc[i,j] = matriz_de_rigidez_estr.loc[i,j] + matriz_de_rig_3.loc[i,j]"
   ]
  },
  {
   "cell_type": "code",
   "execution_count": 10,
   "metadata": {},
   "outputs": [
    {
     "data": {
      "text/html": [
       "<div>\n",
       "<table border=\"1\" class=\"dataframe\">\n",
       "  <thead>\n",
       "    <tr style=\"text-align: right;\">\n",
       "      <th></th>\n",
       "      <th>1</th>\n",
       "      <th>2</th>\n",
       "      <th>3</th>\n",
       "      <th>4</th>\n",
       "      <th>5</th>\n",
       "      <th>6</th>\n",
       "      <th>7</th>\n",
       "      <th>8</th>\n",
       "    </tr>\n",
       "  </thead>\n",
       "  <tbody>\n",
       "    <tr>\n",
       "      <th>1</th>\n",
       "      <td>1.12e+06</td>\n",
       "      <td>2.83e+05</td>\n",
       "      <td>-7.38e+05</td>\n",
       "      <td>0.00e+00</td>\n",
       "      <td>-3.78e+05</td>\n",
       "      <td>-2.83e+05</td>\n",
       "      <td>0.00e+00</td>\n",
       "      <td>0.00e+00</td>\n",
       "    </tr>\n",
       "    <tr>\n",
       "      <th>2</th>\n",
       "      <td>2.83e+05</td>\n",
       "      <td>2.12e+05</td>\n",
       "      <td>0.00e+00</td>\n",
       "      <td>0.00e+00</td>\n",
       "      <td>-2.83e+05</td>\n",
       "      <td>-2.12e+05</td>\n",
       "      <td>0.00e+00</td>\n",
       "      <td>0.00e+00</td>\n",
       "    </tr>\n",
       "    <tr>\n",
       "      <th>3</th>\n",
       "      <td>-7.38e+05</td>\n",
       "      <td>0.00e+00</td>\n",
       "      <td>7.38e+05</td>\n",
       "      <td>0.00e+00</td>\n",
       "      <td>0.00e+00</td>\n",
       "      <td>0.00e+00</td>\n",
       "      <td>0.00e+00</td>\n",
       "      <td>0.00e+00</td>\n",
       "    </tr>\n",
       "    <tr>\n",
       "      <th>4</th>\n",
       "      <td>0.00e+00</td>\n",
       "      <td>0.00e+00</td>\n",
       "      <td>0.00e+00</td>\n",
       "      <td>9.83e+05</td>\n",
       "      <td>0.00e+00</td>\n",
       "      <td>-9.83e+05</td>\n",
       "      <td>0.00e+00</td>\n",
       "      <td>0.00e+00</td>\n",
       "    </tr>\n",
       "    <tr>\n",
       "      <th>5</th>\n",
       "      <td>-3.78e+05</td>\n",
       "      <td>-2.83e+05</td>\n",
       "      <td>0.00e+00</td>\n",
       "      <td>0.00e+00</td>\n",
       "      <td>3.78e+05</td>\n",
       "      <td>2.83e+05</td>\n",
       "      <td>0.00e+00</td>\n",
       "      <td>0.00e+00</td>\n",
       "    </tr>\n",
       "    <tr>\n",
       "      <th>6</th>\n",
       "      <td>-2.83e+05</td>\n",
       "      <td>-2.12e+05</td>\n",
       "      <td>0.00e+00</td>\n",
       "      <td>-9.83e+05</td>\n",
       "      <td>2.83e+05</td>\n",
       "      <td>1.20e+06</td>\n",
       "      <td>0.00e+00</td>\n",
       "      <td>0.00e+00</td>\n",
       "    </tr>\n",
       "    <tr>\n",
       "      <th>7</th>\n",
       "      <td>0.00e+00</td>\n",
       "      <td>0.00e+00</td>\n",
       "      <td>0.00e+00</td>\n",
       "      <td>0.00e+00</td>\n",
       "      <td>0.00e+00</td>\n",
       "      <td>0.00e+00</td>\n",
       "      <td>0.00e+00</td>\n",
       "      <td>0.00e+00</td>\n",
       "    </tr>\n",
       "    <tr>\n",
       "      <th>8</th>\n",
       "      <td>0.00e+00</td>\n",
       "      <td>0.00e+00</td>\n",
       "      <td>0.00e+00</td>\n",
       "      <td>0.00e+00</td>\n",
       "      <td>0.00e+00</td>\n",
       "      <td>0.00e+00</td>\n",
       "      <td>0.00e+00</td>\n",
       "      <td>0.00e+00</td>\n",
       "    </tr>\n",
       "  </tbody>\n",
       "</table>\n",
       "</div>"
      ]
     },
     "execution_count": 10,
     "output_type": "execute_result",
     "metadata": {}
    }
   ],
   "source": [
    "pd.options.display.float_format = '{:,.2e}'.format\n",
    "matriz_de_rigidez_estr"
   ]
  },
  {
   "cell_type": "code",
   "execution_count": 11,
   "metadata": {},
   "outputs": [
    {
     "data": {
      "text/html": [
       "<div>\n",
       "<table border=\"1\" class=\"dataframe\">\n",
       "  <thead>\n",
       "    <tr style=\"text-align: right;\">\n",
       "      <th></th>\n",
       "      <th>3</th>\n",
       "      <th>5</th>\n",
       "      <th>6</th>\n",
       "    </tr>\n",
       "  </thead>\n",
       "  <tbody>\n",
       "    <tr>\n",
       "      <th>3</th>\n",
       "      <td>7.38e+05</td>\n",
       "      <td>0.00e+00</td>\n",
       "      <td>0.00e+00</td>\n",
       "    </tr>\n",
       "    <tr>\n",
       "      <th>5</th>\n",
       "      <td>0.00e+00</td>\n",
       "      <td>3.78e+05</td>\n",
       "      <td>2.83e+05</td>\n",
       "    </tr>\n",
       "    <tr>\n",
       "      <th>6</th>\n",
       "      <td>0.00e+00</td>\n",
       "      <td>2.83e+05</td>\n",
       "      <td>1.20e+06</td>\n",
       "    </tr>\n",
       "  </tbody>\n",
       "</table>\n",
       "</div>"
      ]
     },
     "execution_count": 11,
     "output_type": "execute_result",
     "metadata": {}
    }
   ],
   "source": [
    "matriz_k_tabla = matriz_de_rigidez_estr.loc[[3,5,6],[3,5,6]]\n",
    "matriz_k_tabla"
   ]
  },
  {
   "cell_type": "code",
   "execution_count": 85,
   "metadata": {},
   "outputs": [],
   "source": [
    "matriz_k = np.zeros([3,3])\n",
    "a = 0\n",
    "for i in [3, 5, 6]:\n",
    "    b = 0\n",
    "    for j in [3, 5, 6]:\n",
    "        matriz_k[a,b] = matriz_k_tabla.loc[i,j]\n",
    "        b = b + 1\n",
    "    a = a + 1\n",
    "print(matriz_k)"
   ]
  },
  {
   "cell_type": "code",
   "execution_count": 86,
   "metadata": {},
   "outputs": [],
   "source": [
    "from scipy.linalg import solve\n",
    "f = np.array([F_1, 0, -F_2])\n",
    "desp = solve(matriz_k,f)\n",
    "print(desp)"
   ]
  },
  {
   "cell_type": "code",
   "execution_count": 70,
   "metadata": {},
   "outputs": [
    {
     "data": {
      "text/plain": [
       "250000.0"
      ]
     },
     "execution_count": 70,
     "output_type": "execute_result",
     "metadata": {}
    }
   ],
   "source": [
    "k = (E * A) / le_1\n",
    "k"
   ]
  },
  {
   "cell_type": "code",
   "execution_count": 71,
   "metadata": {},
   "outputs": [
    {
     "data": {
      "text/plain": [
       "40.0"
      ]
     },
     "execution_count": 71,
     "output_type": "execute_result",
     "metadata": {}
    }
   ],
   "source": [
    "le_1"
   ]
  },
  {
   "cell_type": "code",
   "execution_count": 72,
   "metadata": {},
   "outputs": [
    {
     "data": {
      "text/plain": [
       "737500.0"
      ]
     },
     "execution_count": 72,
     "output_type": "execute_result",
     "metadata": {}
    }
   ],
   "source": [
    "29.5e6/40"
   ]
  },
  {
   "cell_type": "code",
   "execution_count": 73,
   "metadata": {},
   "outputs": [
    {
     "data": {
      "text/plain": [
       "10000000.0"
      ]
     },
     "execution_count": 73,
     "output_type": "execute_result",
     "metadata": {}
    }
   ],
   "source": [
    "E"
   ]
  },
  {
   "cell_type": "code",
   "execution_count": null,
   "metadata": {},
   "outputs": [],
   "source": [
    ""
   ]
  }
 ],
 "metadata": {
  "kernelspec": {
   "display_name": "Python 2",
   "language": "python",
   "name": "python2"
  },
  "language_info": {
   "codemirror_mode": {
    "name": "ipython",
    "version": 2.0
   },
   "file_extension": ".py",
   "mimetype": "text/x-python",
   "name": "python",
   "nbconvert_exporter": "python",
   "pygments_lexer": "ipython2",
   "version": "2.7.9"
  }
 },
 "nbformat": 4,
 "nbformat_minor": 0
}