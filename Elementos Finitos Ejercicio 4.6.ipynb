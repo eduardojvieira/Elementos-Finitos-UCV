{
 "cells": [
  {
   "cell_type": "code",
   "execution_count": 2,
   "metadata": {
    "collapsed": false
   },
   "outputs": [],
   "source": [
    "# Se importan las librerías a utilizar\n",
    "import pandas as pd\n",
    "import numpy as np\n",
    "from __future__ import division, print_function\n",
    "\n",
    "# Datos\n",
    "E = 200e9              # Módulo elśtico del material [Pa]\n",
    "A = 250 / (1000 ** 2)  # Área transversal en [m2]\n",
    "F = 18e3               # Fuerza aplicda en 1 [N]\n",
    "\n",
    "# Coordenadas respecto a 1 [m]\n",
    "# 1\n",
    "x_1 = 0\n",
    "y_1 = 0\n",
    "\n",
    "# 2\n",
    "x_2 = -.45\n",
    "y_2 = .6\n",
    "\n",
    "# 3\n",
    "x_3 = .45 + .35\n",
    "y_3 = .6\n",
    "\n",
    "# 4\n",
    "x_4 = .45\n",
    "y_4 = .6"
   ]
  },
  {
   "cell_type": "code",
   "execution_count": 3,
   "metadata": {
    "collapsed": false
   },
   "outputs": [
    {
     "name": "stdout",
     "output_type": "stream",
     "text": [
      "La tabla de coordenadas nodales es la siguiente: \n"
     ]
    },
    {
     "data": {
      "text/html": [
       "<div>\n",
       "<table border=\"1\" class=\"dataframe\">\n",
       "  <thead>\n",
       "    <tr style=\"text-align: right;\">\n",
       "      <th></th>\n",
       "      <th>X</th>\n",
       "      <th>Y</th>\n",
       "    </tr>\n",
       "  </thead>\n",
       "  <tbody>\n",
       "    <tr>\n",
       "      <th>1</th>\n",
       "      <td>0.00</td>\n",
       "      <td>0.0</td>\n",
       "    </tr>\n",
       "    <tr>\n",
       "      <th>2</th>\n",
       "      <td>-0.45</td>\n",
       "      <td>0.6</td>\n",
       "    </tr>\n",
       "    <tr>\n",
       "      <th>3</th>\n",
       "      <td>0.80</td>\n",
       "      <td>0.6</td>\n",
       "    </tr>\n",
       "    <tr>\n",
       "      <th>4</th>\n",
       "      <td>0.45</td>\n",
       "      <td>0.6</td>\n",
       "    </tr>\n",
       "  </tbody>\n",
       "</table>\n",
       "</div>"
      ],
      "text/plain": [
       "      X    Y\n",
       "1  0.00  0.0\n",
       "2 -0.45  0.6\n",
       "3  0.80  0.6\n",
       "4  0.45  0.6"
      ]
     },
     "execution_count": 3,
     "metadata": {},
     "output_type": "execute_result"
    }
   ],
   "source": [
    "# Solución\n",
    "\n",
    "# Coordenadas nodales\n",
    "coordenadas_nodales = pd.DataFrame({'X': [x_1, x_2, x_3, x_4],\n",
    "                                    'Y': [y_1, y_2, y_3, y_4]},\n",
    "                                    index = [1,2,3,4])\n",
    "print('La tabla de coordenadas nodales es la siguiente: ')\n",
    "coordenadas_nodales"
   ]
  },
  {
   "cell_type": "code",
   "execution_count": 4,
   "metadata": {
    "collapsed": false
   },
   "outputs": [
    {
     "name": "stdout",
     "output_type": "stream",
     "text": [
      "Tabla de conectividad\n"
     ]
    },
    {
     "data": {
      "text/html": [
       "<div>\n",
       "<table border=\"1\" class=\"dataframe\">\n",
       "  <thead>\n",
       "    <tr style=\"text-align: right;\">\n",
       "      <th></th>\n",
       "      <th>1</th>\n",
       "      <th>2</th>\n",
       "    </tr>\n",
       "  </thead>\n",
       "  <tbody>\n",
       "    <tr>\n",
       "      <th>1</th>\n",
       "      <td>1</td>\n",
       "      <td>2</td>\n",
       "    </tr>\n",
       "    <tr>\n",
       "      <th>2</th>\n",
       "      <td>1</td>\n",
       "      <td>3</td>\n",
       "    </tr>\n",
       "    <tr>\n",
       "      <th>3</th>\n",
       "      <td>1</td>\n",
       "      <td>4</td>\n",
       "    </tr>\n",
       "  </tbody>\n",
       "</table>\n",
       "</div>"
      ],
      "text/plain": [
       "   1  2\n",
       "1  1  2\n",
       "2  1  3\n",
       "3  1  4"
      ]
     },
     "execution_count": 4,
     "metadata": {},
     "output_type": "execute_result"
    }
   ],
   "source": [
    "# Conectividad\n",
    "\n",
    "conectividad = pd.DataFrame({1: [1, 1, 1],\n",
    "                             2: [2, 3, 4]},\n",
    "                             index = [1, 2, 3])\n",
    "print('Tabla de conectividad')\n",
    "conectividad"
   ]
  },
  {
   "cell_type": "code",
   "execution_count": 5,
   "metadata": {
    "collapsed": false
   },
   "outputs": [
    {
     "name": "stdout",
     "output_type": "stream",
     "text": [
      "Tabla de cosenos directores\n"
     ]
    },
    {
     "data": {
      "text/html": [
       "<div>\n",
       "<table border=\"1\" class=\"dataframe\">\n",
       "  <thead>\n",
       "    <tr style=\"text-align: right;\">\n",
       "      <th></th>\n",
       "      <th>l</th>\n",
       "      <th>le</th>\n",
       "      <th>m</th>\n",
       "    </tr>\n",
       "  </thead>\n",
       "  <tbody>\n",
       "    <tr>\n",
       "      <th>1</th>\n",
       "      <td>-0.6</td>\n",
       "      <td>0.75</td>\n",
       "      <td>0.8</td>\n",
       "    </tr>\n",
       "    <tr>\n",
       "      <th>2</th>\n",
       "      <td>0.8</td>\n",
       "      <td>1.00</td>\n",
       "      <td>0.6</td>\n",
       "    </tr>\n",
       "    <tr>\n",
       "      <th>3</th>\n",
       "      <td>0.6</td>\n",
       "      <td>0.75</td>\n",
       "      <td>0.8</td>\n",
       "    </tr>\n",
       "  </tbody>\n",
       "</table>\n",
       "</div>"
      ],
      "text/plain": [
       "     l    le    m\n",
       "1 -0.6  0.75  0.8\n",
       "2  0.8  1.00  0.6\n",
       "3  0.6  0.75  0.8"
      ]
     },
     "execution_count": 5,
     "metadata": {},
     "output_type": "execute_result"
    }
   ],
   "source": [
    "# Cosenos directores\n",
    "\n",
    "# 1\n",
    "le_1 = np.sqrt((x_2 - x_1) ** 2 + (y_2 - y_1) ** 2)\n",
    "l_1 = (x_2 - x_1) / le_1\n",
    "m_1 = (y_2 - y_1) / le_1\n",
    "\n",
    "# 2\n",
    "le_2 = np.sqrt((x_3 - x_1) ** 2 + (y_3 - y_1) ** 2)\n",
    "l_2 = (x_3 - x_1) / le_2\n",
    "m_2 = (y_3 - y_1) / le_2\n",
    "\n",
    "# 3\n",
    "le_3 = np.sqrt((x_4 - x_1) ** 2 + (y_4 - y_1) ** 2)\n",
    "l_3 = (x_4 - x_1) / le_3\n",
    "m_3 = (y_4 - y_1) / le_3\n",
    "\n",
    "# Tabla de cosenos directores\n",
    "cosenos_dir = pd.DataFrame({'le': [le_1, le_2, le_3],\n",
    "                            'l' : [l_1, l_2, l_3],\n",
    "                            'm' : [m_1, m_2, m_3]},\n",
    "                            index = [1, 2, 3])\n",
    "print('Tabla de cosenos directores')\n",
    "cosenos_dir"
   ]
  },
  {
   "cell_type": "code",
   "execution_count": 5,
   "metadata": {
    "collapsed": false
   },
   "outputs": [
    {
     "name": "stdout",
     "output_type": "stream",
     "text": [
      "La matriz de rigidez 1 es: \n"
     ]
    },
    {
     "data": {
      "text/html": [
       "<div>\n",
       "<table border=\"1\" class=\"dataframe\">\n",
       "  <thead>\n",
       "    <tr style=\"text-align: right;\">\n",
       "      <th></th>\n",
       "      <th>1</th>\n",
       "      <th>2</th>\n",
       "      <th>3</th>\n",
       "      <th>4</th>\n",
       "    </tr>\n",
       "  </thead>\n",
       "  <tbody>\n",
       "    <tr>\n",
       "      <th>1</th>\n",
       "      <td>24000000</td>\n",
       "      <td>-32000000.000000</td>\n",
       "      <td>-24000000</td>\n",
       "      <td>32000000.000000</td>\n",
       "    </tr>\n",
       "    <tr>\n",
       "      <th>2</th>\n",
       "      <td>-32000000</td>\n",
       "      <td>42666666.666667</td>\n",
       "      <td>32000000</td>\n",
       "      <td>-42666666.666667</td>\n",
       "    </tr>\n",
       "    <tr>\n",
       "      <th>3</th>\n",
       "      <td>-24000000</td>\n",
       "      <td>32000000.000000</td>\n",
       "      <td>24000000</td>\n",
       "      <td>-32000000.000000</td>\n",
       "    </tr>\n",
       "    <tr>\n",
       "      <th>4</th>\n",
       "      <td>32000000</td>\n",
       "      <td>-42666666.666667</td>\n",
       "      <td>-32000000</td>\n",
       "      <td>42666666.666667</td>\n",
       "    </tr>\n",
       "  </tbody>\n",
       "</table>\n",
       "</div>"
      ],
      "text/plain": [
       "          1                2         3                4\n",
       "1  24000000 -32000000.000000 -24000000  32000000.000000\n",
       "2 -32000000  42666666.666667  32000000 -42666666.666667\n",
       "3 -24000000  32000000.000000  24000000 -32000000.000000\n",
       "4  32000000 -42666666.666667 -32000000  42666666.666667"
      ]
     },
     "execution_count": 5,
     "metadata": {},
     "output_type": "execute_result"
    }
   ],
   "source": [
    "# Matriz de rigidez\n",
    "\n",
    "# Se define una función que nos calcula la matriz de rigidez\n",
    "def matrizDeRigidez(E, A, le, l, m, i, j):\n",
    "    k = (E * A) / le\n",
    "    matriz = k * np.array([[l**2, l*m, -l**2, -l*m],\n",
    "                           [l*m, m**2, -l*m, -m**2],\n",
    "                           [-l**2, -l*m, l**2, l*m],\n",
    "                           [-l*m, -m**2, l*m, m**2]])\n",
    "    tabla = pd.DataFrame(matriz, columns = [2*i-1, 2*i, 2*j-1, 2*j],index = [2*i-1, 2*i, 2*j-1, 2*j])\n",
    "    return tabla\n",
    "\n",
    "# 1\n",
    "matriz_de_rig_1 = matrizDeRigidez(E, A, le_1, l_1, m_1, 1, 2)\n",
    "print('La matriz de rigidez 1 es: ')\n",
    "matriz_de_rig_1"
   ]
  },
  {
   "cell_type": "code",
   "execution_count": 6,
   "metadata": {
    "collapsed": false
   },
   "outputs": [
    {
     "name": "stdout",
     "output_type": "stream",
     "text": [
      "La matriz de rigidez 2 es: \n"
     ]
    },
    {
     "data": {
      "text/html": [
       "<div>\n",
       "<table border=\"1\" class=\"dataframe\">\n",
       "  <thead>\n",
       "    <tr style=\"text-align: right;\">\n",
       "      <th></th>\n",
       "      <th>1</th>\n",
       "      <th>2</th>\n",
       "      <th>5</th>\n",
       "      <th>6</th>\n",
       "    </tr>\n",
       "  </thead>\n",
       "  <tbody>\n",
       "    <tr>\n",
       "      <th>1</th>\n",
       "      <td>32000000</td>\n",
       "      <td>24000000</td>\n",
       "      <td>-32000000</td>\n",
       "      <td>-24000000</td>\n",
       "    </tr>\n",
       "    <tr>\n",
       "      <th>2</th>\n",
       "      <td>24000000</td>\n",
       "      <td>18000000</td>\n",
       "      <td>-24000000</td>\n",
       "      <td>-18000000</td>\n",
       "    </tr>\n",
       "    <tr>\n",
       "      <th>5</th>\n",
       "      <td>-32000000</td>\n",
       "      <td>-24000000</td>\n",
       "      <td>32000000</td>\n",
       "      <td>24000000</td>\n",
       "    </tr>\n",
       "    <tr>\n",
       "      <th>6</th>\n",
       "      <td>-24000000</td>\n",
       "      <td>-18000000</td>\n",
       "      <td>24000000</td>\n",
       "      <td>18000000</td>\n",
       "    </tr>\n",
       "  </tbody>\n",
       "</table>\n",
       "</div>"
      ],
      "text/plain": [
       "          1         2         5         6\n",
       "1  32000000  24000000 -32000000 -24000000\n",
       "2  24000000  18000000 -24000000 -18000000\n",
       "5 -32000000 -24000000  32000000  24000000\n",
       "6 -24000000 -18000000  24000000  18000000"
      ]
     },
     "execution_count": 6,
     "metadata": {},
     "output_type": "execute_result"
    }
   ],
   "source": [
    "# 2\n",
    "matriz_de_rig_2 = matrizDeRigidez(E, A, le_2, l_2, m_2, 1, 3)\n",
    "print('La matriz de rigidez 2 es: ')\n",
    "matriz_de_rig_2"
   ]
  },
  {
   "cell_type": "code",
   "execution_count": 7,
   "metadata": {
    "collapsed": false
   },
   "outputs": [
    {
     "name": "stdout",
     "output_type": "stream",
     "text": [
      "La matriz de rigidez 3 es: \n"
     ]
    },
    {
     "data": {
      "text/html": [
       "<div>\n",
       "<table border=\"1\" class=\"dataframe\">\n",
       "  <thead>\n",
       "    <tr style=\"text-align: right;\">\n",
       "      <th></th>\n",
       "      <th>1</th>\n",
       "      <th>2</th>\n",
       "      <th>7</th>\n",
       "      <th>8</th>\n",
       "    </tr>\n",
       "  </thead>\n",
       "  <tbody>\n",
       "    <tr>\n",
       "      <th>1</th>\n",
       "      <td>24000000</td>\n",
       "      <td>32000000.000000</td>\n",
       "      <td>-24000000</td>\n",
       "      <td>-32000000.000000</td>\n",
       "    </tr>\n",
       "    <tr>\n",
       "      <th>2</th>\n",
       "      <td>32000000</td>\n",
       "      <td>42666666.666667</td>\n",
       "      <td>-32000000</td>\n",
       "      <td>-42666666.666667</td>\n",
       "    </tr>\n",
       "    <tr>\n",
       "      <th>7</th>\n",
       "      <td>-24000000</td>\n",
       "      <td>-32000000.000000</td>\n",
       "      <td>24000000</td>\n",
       "      <td>32000000.000000</td>\n",
       "    </tr>\n",
       "    <tr>\n",
       "      <th>8</th>\n",
       "      <td>-32000000</td>\n",
       "      <td>-42666666.666667</td>\n",
       "      <td>32000000</td>\n",
       "      <td>42666666.666667</td>\n",
       "    </tr>\n",
       "  </tbody>\n",
       "</table>\n",
       "</div>"
      ],
      "text/plain": [
       "          1                2         7                8\n",
       "1  24000000  32000000.000000 -24000000 -32000000.000000\n",
       "2  32000000  42666666.666667 -32000000 -42666666.666667\n",
       "7 -24000000 -32000000.000000  24000000  32000000.000000\n",
       "8 -32000000 -42666666.666667  32000000  42666666.666667"
      ]
     },
     "execution_count": 7,
     "metadata": {},
     "output_type": "execute_result"
    }
   ],
   "source": [
    "# 3\n",
    "matriz_de_rig_3 = matrizDeRigidez(E, A, le_3, l_3, m_3, 1, 4)\n",
    "print('La matriz de rigidez 3 es: ')\n",
    "matriz_de_rig_3"
   ]
  },
  {
   "cell_type": "code",
   "execution_count": 8,
   "metadata": {
    "collapsed": false
   },
   "outputs": [],
   "source": [
    "# Se ubican las matrices de rigidez de los elementos en la matriz de rigidez estructural\n",
    "\n",
    "# Creamos una matriz 8x8 llena de zeros\n",
    "matriz_de_rigidez_estr = pd.DataFrame(np.zeros((8,8)), index = [1,2,3,4,5,6,7,8], columns = [1,2,3,4,5,6,7,8])\n",
    "\n",
    "# Ubicamos la matriz del elemento 1\n",
    "for i in matriz_de_rig_1.index:\n",
    "    for j in matriz_de_rig_1.columns:\n",
    "        matriz_de_rigidez_estr.loc[i,j] = matriz_de_rigidez_estr.loc[i,j] + matriz_de_rig_1.loc[i,j]\n",
    "\n",
    "# 2\n",
    "for i in matriz_de_rig_2.index:\n",
    "    for j in matriz_de_rig_2.columns:\n",
    "        matriz_de_rigidez_estr.loc[i,j] = matriz_de_rigidez_estr.loc[i,j] + matriz_de_rig_2.loc[i,j]\n",
    "\n",
    "# 3\n",
    "for i in matriz_de_rig_3.index:\n",
    "    for j in matriz_de_rig_3.columns:\n",
    "        matriz_de_rigidez_estr.loc[i,j] = matriz_de_rigidez_estr.loc[i,j] + matriz_de_rig_3.loc[i,j]"
   ]
  },
  {
   "cell_type": "code",
   "execution_count": 9,
   "metadata": {
    "collapsed": false
   },
   "outputs": [
    {
     "data": {
      "text/html": [
       "<div>\n",
       "<table border=\"1\" class=\"dataframe\">\n",
       "  <thead>\n",
       "    <tr style=\"text-align: right;\">\n",
       "      <th></th>\n",
       "      <th>1</th>\n",
       "      <th>2</th>\n",
       "      <th>3</th>\n",
       "      <th>4</th>\n",
       "      <th>5</th>\n",
       "      <th>6</th>\n",
       "      <th>7</th>\n",
       "      <th>8</th>\n",
       "    </tr>\n",
       "  </thead>\n",
       "  <tbody>\n",
       "    <tr>\n",
       "      <th>1</th>\n",
       "      <td>8.00e+07</td>\n",
       "      <td>2.40e+07</td>\n",
       "      <td>-2.40e+07</td>\n",
       "      <td>3.20e+07</td>\n",
       "      <td>-3.20e+07</td>\n",
       "      <td>-2.40e+07</td>\n",
       "      <td>-2.40e+07</td>\n",
       "      <td>-3.20e+07</td>\n",
       "    </tr>\n",
       "    <tr>\n",
       "      <th>2</th>\n",
       "      <td>2.40e+07</td>\n",
       "      <td>1.03e+08</td>\n",
       "      <td>3.20e+07</td>\n",
       "      <td>-4.27e+07</td>\n",
       "      <td>-2.40e+07</td>\n",
       "      <td>-1.80e+07</td>\n",
       "      <td>-3.20e+07</td>\n",
       "      <td>-4.27e+07</td>\n",
       "    </tr>\n",
       "    <tr>\n",
       "      <th>3</th>\n",
       "      <td>-2.40e+07</td>\n",
       "      <td>3.20e+07</td>\n",
       "      <td>2.40e+07</td>\n",
       "      <td>-3.20e+07</td>\n",
       "      <td>0.00e+00</td>\n",
       "      <td>0.00e+00</td>\n",
       "      <td>0.00e+00</td>\n",
       "      <td>0.00e+00</td>\n",
       "    </tr>\n",
       "    <tr>\n",
       "      <th>4</th>\n",
       "      <td>3.20e+07</td>\n",
       "      <td>-4.27e+07</td>\n",
       "      <td>-3.20e+07</td>\n",
       "      <td>4.27e+07</td>\n",
       "      <td>0.00e+00</td>\n",
       "      <td>0.00e+00</td>\n",
       "      <td>0.00e+00</td>\n",
       "      <td>0.00e+00</td>\n",
       "    </tr>\n",
       "    <tr>\n",
       "      <th>5</th>\n",
       "      <td>-3.20e+07</td>\n",
       "      <td>-2.40e+07</td>\n",
       "      <td>0.00e+00</td>\n",
       "      <td>0.00e+00</td>\n",
       "      <td>3.20e+07</td>\n",
       "      <td>2.40e+07</td>\n",
       "      <td>0.00e+00</td>\n",
       "      <td>0.00e+00</td>\n",
       "    </tr>\n",
       "    <tr>\n",
       "      <th>6</th>\n",
       "      <td>-2.40e+07</td>\n",
       "      <td>-1.80e+07</td>\n",
       "      <td>0.00e+00</td>\n",
       "      <td>0.00e+00</td>\n",
       "      <td>2.40e+07</td>\n",
       "      <td>1.80e+07</td>\n",
       "      <td>0.00e+00</td>\n",
       "      <td>0.00e+00</td>\n",
       "    </tr>\n",
       "    <tr>\n",
       "      <th>7</th>\n",
       "      <td>-2.40e+07</td>\n",
       "      <td>-3.20e+07</td>\n",
       "      <td>0.00e+00</td>\n",
       "      <td>0.00e+00</td>\n",
       "      <td>0.00e+00</td>\n",
       "      <td>0.00e+00</td>\n",
       "      <td>2.40e+07</td>\n",
       "      <td>3.20e+07</td>\n",
       "    </tr>\n",
       "    <tr>\n",
       "      <th>8</th>\n",
       "      <td>-3.20e+07</td>\n",
       "      <td>-4.27e+07</td>\n",
       "      <td>0.00e+00</td>\n",
       "      <td>0.00e+00</td>\n",
       "      <td>0.00e+00</td>\n",
       "      <td>0.00e+00</td>\n",
       "      <td>3.20e+07</td>\n",
       "      <td>4.27e+07</td>\n",
       "    </tr>\n",
       "  </tbody>\n",
       "</table>\n",
       "</div>"
      ],
      "text/plain": [
       "          1         2         3         4         5         6         7  \\\n",
       "1  8.00e+07  2.40e+07 -2.40e+07  3.20e+07 -3.20e+07 -2.40e+07 -2.40e+07   \n",
       "2  2.40e+07  1.03e+08  3.20e+07 -4.27e+07 -2.40e+07 -1.80e+07 -3.20e+07   \n",
       "3 -2.40e+07  3.20e+07  2.40e+07 -3.20e+07  0.00e+00  0.00e+00  0.00e+00   \n",
       "4  3.20e+07 -4.27e+07 -3.20e+07  4.27e+07  0.00e+00  0.00e+00  0.00e+00   \n",
       "5 -3.20e+07 -2.40e+07  0.00e+00  0.00e+00  3.20e+07  2.40e+07  0.00e+00   \n",
       "6 -2.40e+07 -1.80e+07  0.00e+00  0.00e+00  2.40e+07  1.80e+07  0.00e+00   \n",
       "7 -2.40e+07 -3.20e+07  0.00e+00  0.00e+00  0.00e+00  0.00e+00  2.40e+07   \n",
       "8 -3.20e+07 -4.27e+07  0.00e+00  0.00e+00  0.00e+00  0.00e+00  3.20e+07   \n",
       "\n",
       "          8  \n",
       "1 -3.20e+07  \n",
       "2 -4.27e+07  \n",
       "3  0.00e+00  \n",
       "4  0.00e+00  \n",
       "5  0.00e+00  \n",
       "6  0.00e+00  \n",
       "7  3.20e+07  \n",
       "8  4.27e+07  "
      ]
     },
     "execution_count": 9,
     "metadata": {},
     "output_type": "execute_result"
    }
   ],
   "source": [
    "# Encendemos la notación científica con 2 decimales\n",
    "pd.options.display.float_format = '{:,.2e}'.format\n",
    "\n",
    "# Mostramos la matriz\n",
    "matriz_de_rigidez_estr"
   ]
  },
  {
   "cell_type": "code",
   "execution_count": 10,
   "metadata": {
    "collapsed": false
   },
   "outputs": [
    {
     "data": {
      "text/html": [
       "<div>\n",
       "<table border=\"1\" class=\"dataframe\">\n",
       "  <thead>\n",
       "    <tr style=\"text-align: right;\">\n",
       "      <th></th>\n",
       "      <th>1</th>\n",
       "      <th>2</th>\n",
       "    </tr>\n",
       "  </thead>\n",
       "  <tbody>\n",
       "    <tr>\n",
       "      <th>1</th>\n",
       "      <td>8.00e+07</td>\n",
       "      <td>2.40e+07</td>\n",
       "    </tr>\n",
       "    <tr>\n",
       "      <th>2</th>\n",
       "      <td>2.40e+07</td>\n",
       "      <td>1.03e+08</td>\n",
       "    </tr>\n",
       "  </tbody>\n",
       "</table>\n",
       "</div>"
      ],
      "text/plain": [
       "         1        2\n",
       "1 8.00e+07 2.40e+07\n",
       "2 2.40e+07 1.03e+08"
      ]
     },
     "execution_count": 10,
     "metadata": {},
     "output_type": "execute_result"
    }
   ],
   "source": [
    "# los grados de libertad corresponden a 1 y 2asi que eliminamos los demás\n",
    "matriz_k_tabla = matriz_de_rigidez_estr.loc[0:2,[1,2]]\n",
    "matriz_k_tabla"
   ]
  },
  {
   "cell_type": "code",
   "execution_count": 11,
   "metadata": {
    "collapsed": false
   },
   "outputs": [
    {
     "name": "stdout",
     "output_type": "stream",
     "text": [
      "[[  8.00000000e+07   2.40000000e+07]\n",
      " [  2.40000000e+07   1.03333333e+08]]\n"
     ]
    }
   ],
   "source": [
    "# se ha trabajo con tablas, ahora se lleva realmente a un array o matriz\n",
    "\n",
    "# creamos una matriz 2x2 de ceros\n",
    "matriz_k = np.zeros([2,2])\n",
    "\n",
    "# se llen con las filas y columnas\n",
    "for i in matriz_k_tabla.index:\n",
    "    for j in matriz_k_tabla.columns:\n",
    "        matriz_k[i-1,j-1] = matriz_k_tabla.loc[i,j]\n",
    "        \n",
    "# mostramos la matriz\n",
    "print(matriz_k)"
   ]
  },
  {
   "cell_type": "code",
   "execution_count": 12,
   "metadata": {
    "collapsed": false
   },
   "outputs": [
    {
     "name": "stdout",
     "output_type": "stream",
     "text": [
      "El desplazamiento en el punto 1 es [m]:\n",
      "En el eje x 5.61719833564e-05\n",
      "En el eje y -0.000187239944521\n"
     ]
    }
   ],
   "source": [
    "# para resolver importamos el módulo solve de la librería scipy.linag\n",
    "# estos módulos son programados a bajo nivel con lenguajes como C o Fortran\n",
    "from scipy.linalg import solve\n",
    "\n",
    "# creamos la matriz de fuerza\n",
    "f = np.array([0, -F])\n",
    "\n",
    "# resolvemos el problema F = kU obteniendo el desplazamiento\n",
    "desp = solve(matriz_k,f)\n",
    "print('El desplazamiento en el punto 1 es [m]:')\n",
    "print('En el eje x', desp[0])\n",
    "print('En el eje y', desp[1])"
   ]
  },
  {
   "cell_type": "code",
   "execution_count": 13,
   "metadata": {
    "collapsed": false
   },
   "outputs": [
    {
     "name": "stdout",
     "output_type": "stream",
     "text": [
      "El esfuerzo en 3 es [Pa]: 30957004.1609\n"
     ]
    }
   ],
   "source": [
    "# esfuerzo en 3\n",
    "a = np.array([-l_3, -m_3, l_3, m_3])\n",
    "q = np.array([desp[0], desp[1], 0, 0])\n",
    "sigma_3 = (E / le_3) * np.dot(a,q)\n",
    "print('El esfuerzo en 3 es [Pa]:',sigma_3)"
   ]
  }
 ],
 "metadata": {
  "kernelspec": {
   "display_name": "Python 2",
   "language": "python",
   "name": "python2"
  },
  "language_info": {
   "codemirror_mode": {
    "name": "ipython",
    "version": 2
   },
   "file_extension": ".py",
   "mimetype": "text/x-python",
   "name": "python",
   "nbconvert_exporter": "python",
   "pygments_lexer": "ipython2",
   "version": "2.7.11"
  }
 },
 "nbformat": 4,
 "nbformat_minor": 0
}
